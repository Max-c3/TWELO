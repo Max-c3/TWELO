{
 "cells": [
  {
   "cell_type": "code",
   "execution_count": 1,
   "metadata": {},
   "outputs": [
    {
     "name": "stdout",
     "output_type": "stream",
     "text": [
      "Requirement already satisfied: nbdime in /Users/myself/.pyenv/versions/3.10.6/envs/lewagon/lib/python3.10/site-packages (4.0.1)\n",
      "Requirement already satisfied: colorama in /Users/myself/.pyenv/versions/3.10.6/envs/lewagon/lib/python3.10/site-packages (from nbdime) (0.4.5)\n",
      "Requirement already satisfied: gitpython!=2.1.4,!=2.1.5,!=2.1.6 in /Users/myself/.pyenv/versions/3.10.6/envs/lewagon/lib/python3.10/site-packages (from nbdime) (3.1.29)\n",
      "Requirement already satisfied: jinja2>=2.9 in /Users/myself/.pyenv/versions/3.10.6/envs/lewagon/lib/python3.10/site-packages (from nbdime) (3.1.2)\n",
      "Requirement already satisfied: jupyter-server in /Users/myself/.pyenv/versions/3.10.6/envs/lewagon/lib/python3.10/site-packages (from nbdime) (1.21.0)\n",
      "Requirement already satisfied: jupyter-server-mathjax>=0.2.2 in /Users/myself/.pyenv/versions/3.10.6/envs/lewagon/lib/python3.10/site-packages (from nbdime) (0.2.6)\n",
      "Requirement already satisfied: nbformat in /Users/myself/.pyenv/versions/3.10.6/envs/lewagon/lib/python3.10/site-packages (from nbdime) (5.7.0)\n",
      "Requirement already satisfied: pygments in /Users/myself/.pyenv/versions/3.10.6/envs/lewagon/lib/python3.10/site-packages (from nbdime) (2.13.0)\n",
      "Requirement already satisfied: requests in /Users/myself/.pyenv/versions/3.10.6/envs/lewagon/lib/python3.10/site-packages (from nbdime) (2.28.1)\n",
      "Requirement already satisfied: tornado in /Users/myself/.pyenv/versions/3.10.6/envs/lewagon/lib/python3.10/site-packages (from nbdime) (6.2)\n",
      "Requirement already satisfied: gitdb<5,>=4.0.1 in /Users/myself/.pyenv/versions/3.10.6/envs/lewagon/lib/python3.10/site-packages (from gitpython!=2.1.4,!=2.1.5,!=2.1.6->nbdime) (4.0.9)\n",
      "Requirement already satisfied: MarkupSafe>=2.0 in /Users/myself/.pyenv/versions/3.10.6/envs/lewagon/lib/python3.10/site-packages (from jinja2>=2.9->nbdime) (2.1.1)\n",
      "Requirement already satisfied: anyio<4,>=3.1.0 in /Users/myself/.pyenv/versions/3.10.6/envs/lewagon/lib/python3.10/site-packages (from jupyter-server->nbdime) (3.6.2)\n",
      "Requirement already satisfied: argon2-cffi in /Users/myself/.pyenv/versions/3.10.6/envs/lewagon/lib/python3.10/site-packages (from jupyter-server->nbdime) (21.3.0)\n",
      "Requirement already satisfied: jupyter-client>=6.1.12 in /Users/myself/.pyenv/versions/3.10.6/envs/lewagon/lib/python3.10/site-packages (from jupyter-server->nbdime) (7.4.3)\n",
      "Requirement already satisfied: jupyter-core>=4.7.0 in /Users/myself/.pyenv/versions/3.10.6/envs/lewagon/lib/python3.10/site-packages (from jupyter-server->nbdime) (4.11.2)\n",
      "Requirement already satisfied: nbconvert>=6.4.4 in /Users/myself/.pyenv/versions/3.10.6/envs/lewagon/lib/python3.10/site-packages (from jupyter-server->nbdime) (6.5.4)\n",
      "Requirement already satisfied: packaging in /Users/myself/.pyenv/versions/3.10.6/envs/lewagon/lib/python3.10/site-packages (from jupyter-server->nbdime) (21.3)\n",
      "Requirement already satisfied: prometheus-client in /Users/myself/.pyenv/versions/3.10.6/envs/lewagon/lib/python3.10/site-packages (from jupyter-server->nbdime) (0.15.0)\n",
      "Requirement already satisfied: pyzmq>=17 in /Users/myself/.pyenv/versions/3.10.6/envs/lewagon/lib/python3.10/site-packages (from jupyter-server->nbdime) (24.0.1)\n",
      "Requirement already satisfied: Send2Trash in /Users/myself/.pyenv/versions/3.10.6/envs/lewagon/lib/python3.10/site-packages (from jupyter-server->nbdime) (1.8.0)\n",
      "Requirement already satisfied: terminado>=0.8.3 in /Users/myself/.pyenv/versions/3.10.6/envs/lewagon/lib/python3.10/site-packages (from jupyter-server->nbdime) (0.16.0)\n",
      "Requirement already satisfied: traitlets>=5.1 in /Users/myself/.pyenv/versions/3.10.6/envs/lewagon/lib/python3.10/site-packages (from jupyter-server->nbdime) (5.5.0)\n",
      "Requirement already satisfied: websocket-client in /Users/myself/.pyenv/versions/3.10.6/envs/lewagon/lib/python3.10/site-packages (from jupyter-server->nbdime) (1.4.1)\n",
      "Requirement already satisfied: fastjsonschema in /Users/myself/.pyenv/versions/3.10.6/envs/lewagon/lib/python3.10/site-packages (from nbformat->nbdime) (2.16.2)\n",
      "Requirement already satisfied: jsonschema>=2.6 in /Users/myself/.pyenv/versions/3.10.6/envs/lewagon/lib/python3.10/site-packages (from nbformat->nbdime) (4.16.0)\n",
      "Requirement already satisfied: charset-normalizer<3,>=2 in /Users/myself/.pyenv/versions/3.10.6/envs/lewagon/lib/python3.10/site-packages (from requests->nbdime) (2.1.1)\n",
      "Requirement already satisfied: idna<4,>=2.5 in /Users/myself/.pyenv/versions/3.10.6/envs/lewagon/lib/python3.10/site-packages (from requests->nbdime) (3.4)\n",
      "Requirement already satisfied: urllib3<1.27,>=1.21.1 in /Users/myself/.pyenv/versions/3.10.6/envs/lewagon/lib/python3.10/site-packages (from requests->nbdime) (1.26.12)\n",
      "Requirement already satisfied: certifi>=2017.4.17 in /Users/myself/.pyenv/versions/3.10.6/envs/lewagon/lib/python3.10/site-packages (from requests->nbdime) (2022.9.24)\n",
      "Requirement already satisfied: sniffio>=1.1 in /Users/myself/.pyenv/versions/3.10.6/envs/lewagon/lib/python3.10/site-packages (from anyio<4,>=3.1.0->jupyter-server->nbdime) (1.3.0)\n",
      "Requirement already satisfied: smmap<6,>=3.0.1 in /Users/myself/.pyenv/versions/3.10.6/envs/lewagon/lib/python3.10/site-packages (from gitdb<5,>=4.0.1->gitpython!=2.1.4,!=2.1.5,!=2.1.6->nbdime) (5.0.0)\n",
      "Requirement already satisfied: attrs>=17.4.0 in /Users/myself/.pyenv/versions/3.10.6/envs/lewagon/lib/python3.10/site-packages (from jsonschema>=2.6->nbformat->nbdime) (22.1.0)\n",
      "Requirement already satisfied: pyrsistent!=0.17.0,!=0.17.1,!=0.17.2,>=0.14.0 in /Users/myself/.pyenv/versions/3.10.6/envs/lewagon/lib/python3.10/site-packages (from jsonschema>=2.6->nbformat->nbdime) (0.18.1)\n",
      "Requirement already satisfied: entrypoints in /Users/myself/.pyenv/versions/3.10.6/envs/lewagon/lib/python3.10/site-packages (from jupyter-client>=6.1.12->jupyter-server->nbdime) (0.4)\n",
      "Requirement already satisfied: nest-asyncio>=1.5.4 in /Users/myself/.pyenv/versions/3.10.6/envs/lewagon/lib/python3.10/site-packages (from jupyter-client>=6.1.12->jupyter-server->nbdime) (1.5.6)\n",
      "Requirement already satisfied: python-dateutil>=2.8.2 in /Users/myself/.pyenv/versions/3.10.6/envs/lewagon/lib/python3.10/site-packages (from jupyter-client>=6.1.12->jupyter-server->nbdime) (2.8.2)\n",
      "Requirement already satisfied: lxml in /Users/myself/.pyenv/versions/3.10.6/envs/lewagon/lib/python3.10/site-packages (from nbconvert>=6.4.4->jupyter-server->nbdime) (4.9.1)\n",
      "Requirement already satisfied: beautifulsoup4 in /Users/myself/.pyenv/versions/3.10.6/envs/lewagon/lib/python3.10/site-packages (from nbconvert>=6.4.4->jupyter-server->nbdime) (4.11.1)\n",
      "Requirement already satisfied: bleach in /Users/myself/.pyenv/versions/3.10.6/envs/lewagon/lib/python3.10/site-packages (from nbconvert>=6.4.4->jupyter-server->nbdime) (5.0.1)\n",
      "Requirement already satisfied: defusedxml in /Users/myself/.pyenv/versions/3.10.6/envs/lewagon/lib/python3.10/site-packages (from nbconvert>=6.4.4->jupyter-server->nbdime) (0.7.1)\n",
      "Requirement already satisfied: jupyterlab-pygments in /Users/myself/.pyenv/versions/3.10.6/envs/lewagon/lib/python3.10/site-packages (from nbconvert>=6.4.4->jupyter-server->nbdime) (0.2.2)\n",
      "Requirement already satisfied: mistune<2,>=0.8.1 in /Users/myself/.pyenv/versions/3.10.6/envs/lewagon/lib/python3.10/site-packages (from nbconvert>=6.4.4->jupyter-server->nbdime) (0.8.4)\n",
      "Requirement already satisfied: nbclient>=0.5.0 in /Users/myself/.pyenv/versions/3.10.6/envs/lewagon/lib/python3.10/site-packages (from nbconvert>=6.4.4->jupyter-server->nbdime) (0.7.0)\n",
      "Requirement already satisfied: pandocfilters>=1.4.1 in /Users/myself/.pyenv/versions/3.10.6/envs/lewagon/lib/python3.10/site-packages (from nbconvert>=6.4.4->jupyter-server->nbdime) (1.5.0)\n",
      "Requirement already satisfied: tinycss2 in /Users/myself/.pyenv/versions/3.10.6/envs/lewagon/lib/python3.10/site-packages (from nbconvert>=6.4.4->jupyter-server->nbdime) (1.2.1)\n",
      "Requirement already satisfied: ptyprocess in /Users/myself/.pyenv/versions/3.10.6/envs/lewagon/lib/python3.10/site-packages (from terminado>=0.8.3->jupyter-server->nbdime) (0.7.0)\n",
      "Requirement already satisfied: argon2-cffi-bindings in /Users/myself/.pyenv/versions/3.10.6/envs/lewagon/lib/python3.10/site-packages (from argon2-cffi->jupyter-server->nbdime) (21.2.0)\n",
      "Requirement already satisfied: pyparsing!=3.0.5,>=2.0.2 in /Users/myself/.pyenv/versions/3.10.6/envs/lewagon/lib/python3.10/site-packages (from packaging->jupyter-server->nbdime) (3.0.9)\n",
      "Requirement already satisfied: six>=1.5 in /Users/myself/.pyenv/versions/3.10.6/envs/lewagon/lib/python3.10/site-packages (from python-dateutil>=2.8.2->jupyter-client>=6.1.12->jupyter-server->nbdime) (1.16.0)\n",
      "Requirement already satisfied: cffi>=1.0.1 in /Users/myself/.pyenv/versions/3.10.6/envs/lewagon/lib/python3.10/site-packages (from argon2-cffi-bindings->argon2-cffi->jupyter-server->nbdime) (1.15.1)\n",
      "Requirement already satisfied: soupsieve>1.2 in /Users/myself/.pyenv/versions/3.10.6/envs/lewagon/lib/python3.10/site-packages (from beautifulsoup4->nbconvert>=6.4.4->jupyter-server->nbdime) (2.3.2.post1)\n",
      "Requirement already satisfied: webencodings in /Users/myself/.pyenv/versions/3.10.6/envs/lewagon/lib/python3.10/site-packages (from bleach->nbconvert>=6.4.4->jupyter-server->nbdime) (0.5.1)\n",
      "Requirement already satisfied: pycparser in /Users/myself/.pyenv/versions/3.10.6/envs/lewagon/lib/python3.10/site-packages (from cffi>=1.0.1->argon2-cffi-bindings->argon2-cffi->jupyter-server->nbdime) (2.21)\n"
     ]
    }
   ],
   "source": [
    "!pip install nbdime\n"
   ]
  },
  {
   "cell_type": "code",
   "execution_count": null,
   "id": "34d298eb",
   "metadata": {},
   "outputs": [],
   "source": []
  }
 ],
 "metadata": {
  "kernelspec": {
   "display_name": "lewagon",
   "language": "python",
   "name": "python3"
  },
  "language_info": {
   "codemirror_mode": {
    "name": "ipython",
    "version": 3
   },
   "file_extension": ".py",
   "mimetype": "text/x-python",
   "name": "python",
   "nbconvert_exporter": "python",
   "pygments_lexer": "ipython3",
   "version": "3.10.6"
  }
 },
 "nbformat": 4,
 "nbformat_minor": 5
}
