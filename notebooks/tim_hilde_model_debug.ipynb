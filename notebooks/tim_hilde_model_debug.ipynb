{
 "cells": [
  {
   "cell_type": "code",
   "execution_count": 2,
   "metadata": {},
   "outputs": [
    {
     "name": "stderr",
     "output_type": "stream",
     "text": [
      "[autoreload of kestrix.params failed: Traceback (most recent call last):\n",
      "  File \"/Users/tim/.pyenv/versions/3.10.6/envs/kestrix/lib/python3.10/site-packages/IPython/extensions/autoreload.py\", line 276, in check\n",
      "    superreload(m, reload, self.old_objects)\n",
      "  File \"/Users/tim/.pyenv/versions/3.10.6/envs/kestrix/lib/python3.10/site-packages/IPython/extensions/autoreload.py\", line 475, in superreload\n",
      "    module = reload(module)\n",
      "  File \"/Users/tim/.pyenv/versions/3.10.6/lib/python3.10/importlib/__init__.py\", line 169, in reload\n",
      "    _bootstrap._exec(spec, module)\n",
      "  File \"<frozen importlib._bootstrap>\", line 619, in _exec\n",
      "  File \"<frozen importlib._bootstrap_external>\", line 883, in exec_module\n",
      "  File \"<frozen importlib._bootstrap>\", line 241, in _call_with_frames_removed\n",
      "  File \"/Users/tim/code/tim-hilde/Kestrix/kestrix/params.py\", line 5, in <module>\n",
      "    PROVIDER = provider()\n",
      "  File \"/Users/tim/.pyenv/versions/3.10.6/envs/kestrix/lib/python3.10/site-packages/cloud_detect/__init__.py\", line 92, in provider\n",
      "    result = asyncio.run(_identify(timeout))\n",
      "  File \"/Users/tim/.pyenv/versions/3.10.6/lib/python3.10/asyncio/runners.py\", line 33, in run\n",
      "    raise RuntimeError(\n",
      "RuntimeError: asyncio.run() cannot be called from a running event loop\n",
      "]\n",
      "/Users/tim/.pyenv/versions/3.10.6/envs/kestrix/lib/python3.10/site-packages/IPython/extensions/autoreload.py:287: RuntimeWarning: coroutine '_identify' was never awaited\n",
      "  self.failed[py_filename] = pymtime\n",
      "RuntimeWarning: Enable tracemalloc to get the object allocation traceback\n"
     ]
    }
   ],
   "source": [
    "import keras\n",
    "from twelo.model import predict, load_model, compile_model\n",
    "from twelo.postprocess import convert_coordinates_to_full_image, blur_bounding_boxes"
   ]
  },
  {
   "cell_type": "code",
   "execution_count": 3,
   "metadata": {},
   "outputs": [
    {
     "name": "stdout",
     "output_type": "stream",
     "text": [
      "WARNING:tensorflow:`compile()` was not called as part of model loading because the model's `compile()` method is custom. All subclassed Models that have `compile()` overridden should also override `get_compile_config()` and `compile_from_config(config)`. Alternatively, you can call `compile()` manually after loading.\n"
     ]
    },
    {
     "name": "stderr",
     "output_type": "stream",
     "text": [
      "/Users/tim/.pyenv/versions/3.10.6/envs/kestrix/lib/python3.10/site-packages/keras_cv/src/models/task.py:43: UserWarning: `Model.state_updates` will be removed in a future version. This property should not be used in TensorFlow 2.0, as `updates` are applied automatically.\n",
      "  return id(getattr(self, attr)) not in self._functional_layer_ids\n",
      "/Users/tim/.pyenv/versions/3.10.6/envs/kestrix/lib/python3.10/site-packages/keras_cv/src/models/task.py:43: UserWarning: `layer.updates` will be removed in a future version. This property should not be used in TensorFlow 2.0, as `updates` are applied automatically.\n",
      "  return id(getattr(self, attr)) not in self._functional_layer_ids\n"
     ]
    },
    {
     "name": "stdout",
     "output_type": "stream",
     "text": [
      "Compiling model.\n"
     ]
    }
   ],
   "source": [
    "model = keras.saving.load_model(\"../models/2024-06-03T15:04:54.359256.keras\")\n",
    "model = compile_model(model)"
   ]
  },
  {
   "cell_type": "code",
   "execution_count": 4,
   "metadata": {},
   "outputs": [
    {
     "name": "stdout",
     "output_type": "stream",
     "text": [
      "Padding image.\n",
      "Splitting into compartments.\n",
      "1/1 [==============================] - 14s 14s/step\n",
      "Error: Bounding box coordinates (-22, 472, 79, 522) are outside the image dimensions.\n",
      "Error: Bounding box coordinates (-22, 428, 76, 490) are outside the image dimensions.\n",
      "Error: Bounding box coordinates (-22, 192, 79, 266) are outside the image dimensions.\n",
      "Error: Bounding box coordinates (-22, -12, 76, 42) are outside the image dimensions.\n",
      "Error: Bounding box coordinates (-22, 354, 78, 426) are outside the image dimensions.\n",
      "Error: Bounding box coordinates (169, -33, 286, 42) are outside the image dimensions.\n",
      "Error: Bounding box coordinates (73, -15, 178, 42) are outside the image dimensions.\n",
      "Error: Bounding box coordinates (201, -109, 333, 10) are outside the image dimensions.\n",
      "Error: Bounding box coordinates (105, -76, 221, 10) are outside the image dimensions.\n",
      "Error: Bounding box coordinates (-22, 132, 79, 202) are outside the image dimensions.\n",
      "Error: Bounding box coordinates (265, -47, 390, 45) are outside the image dimensions.\n",
      "Error: Bounding box coordinates (-22, -71, 82, 10) are outside the image dimensions.\n",
      "Error: Bounding box coordinates (329, -137, 483, 16) are outside the image dimensions.\n",
      "Error: Bounding box coordinates (-22, 50, 78, 106) are outside the image dimensions.\n",
      "Error: Bounding box coordinates (-54, 301, 43, 394) are outside the image dimensions.\n",
      "Error: Bounding box coordinates (393, -44, 527, 56) are outside the image dimensions.\n",
      "Error: Bounding box coordinates (-54, 237, 43, 330) are outside the image dimensions.\n",
      "Error: Bounding box coordinates (-112, 513, -24, 591) are outside the image dimensions.\n",
      "Error: Bounding box coordinates (-105, 154, -20, 225) are outside the image dimensions.\n",
      "Error: Bounding box coordinates (-102, 225, -22, 298) are outside the image dimensions.\n",
      "Error: Bounding box coordinates (-43, 394, 29, 455) are outside the image dimensions.\n",
      "Error: Bounding box coordinates (456, -124, 633, 17) are outside the image dimensions.\n",
      "Error: Bounding box coordinates (-28, 516, 53, 563) are outside the image dimensions.\n",
      "Error: Bounding box coordinates (-106, 106, -21, 176) are outside the image dimensions.\n",
      "Error: Bounding box coordinates (-101, 280, -21, 355) are outside the image dimensions.\n",
      "Error: Bounding box coordinates (-104, 59, -21, 126) are outside the image dimensions.\n",
      "Error: Bounding box coordinates (-71, -71, -71, -71) are outside the image dimensions.\n",
      "Error: Bounding box coordinates (-71, -71, -71, -71) are outside the image dimensions.\n",
      "Error: Bounding box coordinates (-71, -71, -71, -71) are outside the image dimensions.\n",
      "Error: Bounding box coordinates (-71, -71, -71, -71) are outside the image dimensions.\n",
      "Error: Bounding box coordinates (-71, -71, -71, -71) are outside the image dimensions.\n",
      "Error: Bounding box coordinates (-71, -71, -71, -71) are outside the image dimensions.\n",
      "Error: Bounding box coordinates (-71, -71, -71, -71) are outside the image dimensions.\n",
      "Error: Bounding box coordinates (-71, -71, -71, -71) are outside the image dimensions.\n",
      "Error: Bounding box coordinates (-71, -71, -71, -71) are outside the image dimensions.\n",
      "Error: Bounding box coordinates (-71, -71, -71, -71) are outside the image dimensions.\n",
      "Error: Bounding box coordinates (-71, -71, -71, -71) are outside the image dimensions.\n",
      "Error: Bounding box coordinates (-71, -71, -71, -71) are outside the image dimensions.\n",
      "Error: Bounding box coordinates (-71, -71, -71, -71) are outside the image dimensions.\n",
      "Error: Bounding box coordinates (-71, -71, -71, -71) are outside the image dimensions.\n",
      "Error: Bounding box coordinates (-71, -71, -71, -71) are outside the image dimensions.\n",
      "Error: Bounding box coordinates (-71, -71, -71, -71) are outside the image dimensions.\n",
      "Error: Bounding box coordinates (-71, -71, -71, -71) are outside the image dimensions.\n",
      "Error: Bounding box coordinates (-71, -71, -71, -71) are outside the image dimensions.\n",
      "Error: Bounding box coordinates (-71, -71, -71, -71) are outside the image dimensions.\n",
      "Error: Bounding box coordinates (-71, -71, -71, -71) are outside the image dimensions.\n",
      "Error: Bounding box coordinates (-71, -71, -71, -71) are outside the image dimensions.\n",
      "Error: Bounding box coordinates (-71, -71, -71, -71) are outside the image dimensions.\n",
      "Error: Bounding box coordinates (477, -25, 577, 42) are outside the image dimensions.\n",
      "Error: Bounding box coordinates (509, -86, 615, 10) are outside the image dimensions.\n",
      "Error: Bounding box coordinates (541, -28, 653, 42) are outside the image dimensions.\n",
      "Error: Bounding box coordinates (605, -108, 739, 11) are outside the image dimensions.\n"
     ]
    }
   ],
   "source": [
    "compartments_bounding_boxes = predict(\"/Users/tim/Downloads/DJI_20230504173742_0003_V.JPG\", model)\n",
    "image_bounding_boxes = convert_coordinates_to_full_image(compartments_bounding_boxes)\n",
    "blur_bounding_boxes(\"../data/input/DJI_20230504173742_0003_V.JPG\", image_bounding_boxes)"
   ]
  },
  {
   "cell_type": "code",
   "execution_count": null,
   "metadata": {},
   "outputs": [],
   "source": []
  }
 ],
 "metadata": {
  "kernelspec": {
   "display_name": "kestrix",
   "language": "python",
   "name": "python3"
  },
  "language_info": {
   "codemirror_mode": {
    "name": "ipython",
    "version": 3
   },
   "file_extension": ".py",
   "mimetype": "text/x-python",
   "name": "python",
   "nbconvert_exporter": "python",
   "pygments_lexer": "ipython3",
   "version": "3.10.6"
  }
 },
 "nbformat": 4,
 "nbformat_minor": 2
}
