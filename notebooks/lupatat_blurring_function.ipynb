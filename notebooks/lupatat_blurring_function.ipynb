{
 "cells": [
  {
   "cell_type": "code",
   "execution_count": null,
   "id": "8e4595bc-ea2b-4807-bb6f-1a3bc192d084",
   "metadata": {},
   "outputs": [],
   "source": [
    "import tensorflow as tf\n",
    "import cv2\n",
    "import numpy as np\n",
    "import os\n",
    "import pandas as pd"
   ]
  },
  {
   "cell_type": "code",
   "execution_count": null,
   "id": "0e75d18c-2379-45f5-a377-de297bf3b77e",
   "metadata": {},
   "outputs": [],
   "source": [
    "file_path = '/Users/tatianalupashina/code/lupatat/temp_folder/test_input/DJI_20230504183055_0150_V.txt'\n",
    "image_path = '/Users/tatianalupashina/code/lupatat/temp_folder/test_input/DJI_20230504183055_0150_V.JPG'\n",
    "image = cv2.imread(image_path)"
   ]
  },
  {
   "cell_type": "code",
   "execution_count": null,
   "id": "b3b53a0c-6057-434a-a2ae-925ccc85dfe3",
   "metadata": {},
   "outputs": [],
   "source": [
    "column_names = [\"class\", \"xmin\", \"ymin\", \"xmax\", \"ymax\"]\n",
    "\n",
    "# Read the file with a space delimiter and assign the column names\n",
    "df = pd.read_csv(file_path, names=column_names, delimiter=' ')\n",
    "print(df)"
   ]
  },
  {
   "cell_type": "code",
   "execution_count": null,
   "id": "d6e37769-859d-4596-ab57-16803f1c8cdc",
   "metadata": {},
   "outputs": [],
   "source": [
    "# Extract bounding box coordinates and convert them to a list of tuples\n",
    "bounding_boxes = df[['xmin', 'ymin', 'xmax', 'ymax']].values.tolist()\n",
    "bounding_boxes"
   ]
  },
  {
   "cell_type": "code",
   "execution_count": null,
   "id": "af3d1a64-e063-4260-b966-b50034751b3f",
   "metadata": {},
   "outputs": [],
   "source": [
    "bounding_boxes = [\n",
    "    [100, 100, 300, 300],\n",
    " [700, 700, 900, 900],\n",
    " [1100, 1100, 1300, 1300],\n",
    " [1800, 1800, 2000, 2000],\n",
    " [2100, 2100, 2300, 2300],\n",
    " [3200, 800, 3700, 1200],\n",
    " [3200, 2000, 3700, 2200],\n",
    "]"
   ]
  },
  {
   "cell_type": "code",
   "execution_count": null,
   "id": "b1ab93ca-5b0a-4337-b9a2-874cbe70c03b",
   "metadata": {},
   "outputs": [],
   "source": [
    "def blur_bounding_boxes(image_path, bounding_boxes):\n",
    "    # Read the image\n",
    "    image = cv2.imread(image_path)\n",
    "\n",
    "    for (xmin, ymin, xmax, ymax) in bounding_boxes:\n",
    "        # Check if the bounding box coordinates are within the image dimensions\n",
    "        if ymin < 0 or ymax > image.shape[0] or xmin < 0 or xmax > image.shape[1]:\n",
    "            print(f\"Error: Bounding box coordinates ({xmin}, {ymin}, {xmax}, {ymax}) are outside the image dimensions.\")\n",
    "            continue\n",
    "        \n",
    "        # Extract the region of interest\n",
    "        region_of_interest = image[ymin:ymax, xmin:xmax]\n",
    "\n",
    "        # Check if the region of interest is empty\n",
    "        if not region_of_interest.any():\n",
    "            print(f\"Error: Region of interest ({xmin}, {ymin}, {xmax}, {ymax}) is empty.\")\n",
    "            continue\n",
    "\n",
    "        # Apply Gaussian blur to the region of interest with a large kernel size for more blur\n",
    "        blurred_region = cv2.GaussianBlur(region_of_interest, (401, 401), 0)\n",
    "\n",
    "        # Replace the original region with the blurred region\n",
    "        image[ymin:ymax, xmin:xmax] = blurred_region\n",
    "\n",
    "    # Display the image with the blurred regions\n",
    "    cv2.imshow('Image with Blurred Regions', image)\n",
    "    cv2.waitKey(0)\n",
    "    cv2.destroyAllWindows()\n",
    "\n",
    "\n",
    "\n",
    "blur_bounding_boxes(image_path, bounding_boxes)"
   ]
  },
  {
   "cell_type": "code",
   "execution_count": null,
   "id": "e7073996-56a1-4fc5-99b9-9286ffad51cc",
   "metadata": {},
   "outputs": [],
   "source": []
  }
 ],
 "metadata": {
  "kernelspec": {
   "display_name": "Python 3 (ipykernel)",
   "language": "python",
   "name": "python3"
  },
  "language_info": {
   "codemirror_mode": {
    "name": "ipython",
    "version": 3
   },
   "file_extension": ".py",
   "mimetype": "text/x-python",
   "name": "python",
   "nbconvert_exporter": "python",
   "pygments_lexer": "ipython3",
   "version": "3.10.6"
  }
 },
 "nbformat": 4,
 "nbformat_minor": 5
}
