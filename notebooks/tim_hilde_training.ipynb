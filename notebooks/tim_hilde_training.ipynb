{
 "cells": [
  {
   "cell_type": "code",
   "execution_count": 20,
   "metadata": {},
   "outputs": [],
   "source": [
    "from kestrix.model import predict, train_model, compile_model\n",
    "from kestrix.registry import load_model"
   ]
  },
  {
   "cell_type": "code",
   "execution_count": 21,
   "metadata": {},
   "outputs": [
    {
     "name": "stdout",
     "output_type": "stream",
     "text": [
      "Loading existing model.\n",
      "WARNING:tensorflow:`compile()` was not called as part of model loading because the model's `compile()` method is custom. All subclassed Models that have `compile()` overridden should also override `get_compile_config()` and `compile_from_config(config)`. Alternatively, you can call `compile()` manually after loading.\n"
     ]
    },
    {
     "name": "stderr",
     "output_type": "stream",
     "text": [
      "/Users/tim/.pyenv/versions/3.10.6/envs/kestrix/lib/python3.10/site-packages/keras_cv/src/models/task.py:43: UserWarning: `Model.state_updates` will be removed in a future version. This property should not be used in TensorFlow 2.0, as `updates` are applied automatically.\n",
      "  return id(getattr(self, attr)) not in self._functional_layer_ids\n",
      "/Users/tim/.pyenv/versions/3.10.6/envs/kestrix/lib/python3.10/site-packages/keras_cv/src/models/task.py:43: UserWarning: `layer.updates` will be removed in a future version. This property should not be used in TensorFlow 2.0, as `updates` are applied automatically.\n",
      "  return id(getattr(self, attr)) not in self._functional_layer_ids\n"
     ]
    }
   ],
   "source": [
    "model = load_model(\"2024-05-31T13:05:11.094612.keras\")"
   ]
  },
  {
   "cell_type": "code",
   "execution_count": 22,
   "metadata": {},
   "outputs": [
    {
     "name": "stdout",
     "output_type": "stream",
     "text": [
      "Compiling model.\n"
     ]
    }
   ],
   "source": [
    "model = compile_model(model)"
   ]
  },
  {
   "cell_type": "code",
   "execution_count": 26,
   "metadata": {},
   "outputs": [
    {
     "name": "stdout",
     "output_type": "stream",
     "text": [
      "Padding image.\n",
      "Splitting into compartments.\n",
      "(48, 640, 640, 3)\n",
      "(1, 48, 640, 640, 3)\n",
      "1/1 [==============================] - 13s 13s/step\n"
     ]
    }
   ],
   "source": [
    "prediction = predict(input=\"../data/kestrix/raw/DJI_20230504173742_0003_V.JPG\", model=model)"
   ]
  },
  {
   "cell_type": "code",
   "execution_count": 27,
   "metadata": {},
   "outputs": [
    {
     "data": {
      "text/plain": [
       "{'boxes': array([[[ 348.      ,  -44.      ,  356.      ,   60.      ],\n",
       "         [ 356.      ,  -44.      ,  364.      ,   60.      ],\n",
       "         [ 364.      ,  -44.      ,  372.      ,   60.      ],\n",
       "         ...,\n",
       "         [ 500.      , -115.99999 ,  508.      ,   52.      ],\n",
       "         [ 204.      ,  -36.      ,  244.      ,   68.      ],\n",
       "         [ 209.77689 ,   28.      ,  252.      ,  131.68947 ]],\n",
       " \n",
       "        [[ 348.      ,  -44.      ,  356.      ,   60.      ],\n",
       "         [ 356.      ,  -44.      ,  364.      ,   60.      ],\n",
       "         [ 364.      ,  -44.      ,  372.      ,   60.      ],\n",
       "         ...,\n",
       "         [ 244.      ,  -36.      ,  276.      ,   68.      ],\n",
       "         [ 348.      ,  -12.      ,  380.      ,   92.      ],\n",
       "         [ 372.      ,  -12.      ,  404.      ,   92.      ]],\n",
       " \n",
       "        [[ 348.      ,  -44.      ,  356.00024 ,   60.      ],\n",
       "         [ 356.      ,  -44.      ,  364.      ,   60.      ],\n",
       "         [ 364.      ,  -44.      ,  372.      ,   60.      ],\n",
       "         ...,\n",
       "         [ 468.      ,  268.      ,  508.      ,  340.      ],\n",
       "         [ 203.98077 ,  476.      ,  244.      ,  580.      ],\n",
       "         [ 339.99988 ,  500.      ,  380.      ,  604.      ]],\n",
       " \n",
       "        ...,\n",
       " \n",
       "        [[ 316.      , -100.      ,  356.      ,   60.000122],\n",
       "         [  60.      ,  -83.99999 ,  100.      ,   76.      ],\n",
       "         [ 444.      ,  -20.      ,  484.      ,   84.      ],\n",
       "         ...,\n",
       "         [ 284.      , -100.      ,  292.      ,   60.3454  ],\n",
       "         [ 292.      , -100.      ,  300.      ,   60.000095],\n",
       "         [ 300.      , -100.      ,  308.      ,   60.000023]],\n",
       " \n",
       "        [[ 316.      , -100.      ,  356.      ,   60.      ],\n",
       "         [  60.      ,  -83.99457 ,  100.      ,   76.      ],\n",
       "         [ 444.      ,  -20.      ,  484.      ,   84.      ],\n",
       "         ...,\n",
       "         [ 100.      , -108.      ,  108.      ,   52.      ],\n",
       "         [ 108.      , -108.      ,  116.      ,   52.      ],\n",
       "         [ 116.      , -108.      ,  124.      ,   52.      ]],\n",
       " \n",
       "        [[ 316.      , -100.      ,  356.      ,   60.      ],\n",
       "         [  60.      ,  -83.99993 ,  100.      ,   76.      ],\n",
       "         [ 444.      ,  -20.      ,  484.      ,   84.      ],\n",
       "         ...,\n",
       "         [ 156.      ,   -4.      ,  188.      ,  100.      ],\n",
       "         [ 516.      ,    4.      ,  556.      ,  108.      ],\n",
       "         [ 284.      ,   20.      ,  316.      ,  124.      ]]],\n",
       "       dtype=float32),\n",
       " 'confidence': array([[0.7310586, 0.7310586, 0.7310586, ..., 0.7310586, 0.7310586,\n",
       "         0.7310586],\n",
       "        [0.7310586, 0.7310586, 0.7310586, ..., 0.7310586, 0.7310586,\n",
       "         0.7310586],\n",
       "        [0.7310586, 0.7310586, 0.7310586, ..., 0.7310586, 0.7310586,\n",
       "         0.7310586],\n",
       "        ...,\n",
       "        [0.7310586, 0.7310586, 0.7310586, ..., 0.7310586, 0.7310586,\n",
       "         0.7310586],\n",
       "        [0.7310586, 0.7310586, 0.7310586, ..., 0.7310586, 0.7310586,\n",
       "         0.7310586],\n",
       "        [0.7310586, 0.7310586, 0.7310586, ..., 0.7310586, 0.7310586,\n",
       "         0.7310586]], dtype=float32),\n",
       " 'classes': array([[1, 1, 1, ..., 1, 1, 2],\n",
       "        [0, 0, 0, ..., 1, 0, 0],\n",
       "        [0, 0, 1, ..., 2, 2, 1],\n",
       "        ...,\n",
       "        [1, 1, 1, ..., 1, 1, 1],\n",
       "        [1, 1, 1, ..., 1, 1, 1],\n",
       "        [1, 1, 1, ..., 1, 1, 0]]),\n",
       " 'num_detections': array([100, 100, 100, 100, 100, 100, 100, 100, 100, 100, 100, 100, 100,\n",
       "        100, 100, 100, 100, 100, 100, 100, 100, 100, 100, 100, 100, 100,\n",
       "        100, 100, 100, 100, 100, 100, 100, 100, 100, 100, 100, 100, 100,\n",
       "        100, 100, 100, 100, 100, 100, 100, 100, 100], dtype=int32)}"
      ]
     },
     "execution_count": 27,
     "metadata": {},
     "output_type": "execute_result"
    }
   ],
   "source": [
    "prediction"
   ]
  },
  {
   "cell_type": "code",
   "execution_count": 29,
   "metadata": {},
   "outputs": [],
   "source": [
    "from kestrix.postprocess import converting_coordinates_to_full_image, blur_bounding_boxes\n",
    "from kestrix.visualization import visualize_detections"
   ]
  },
  {
   "cell_type": "code",
   "execution_count": null,
   "metadata": {},
   "outputs": [],
   "source": []
  }
 ],
 "metadata": {
  "kernelspec": {
   "display_name": "kestrix",
   "language": "python",
   "name": "python3"
  },
  "language_info": {
   "codemirror_mode": {
    "name": "ipython",
    "version": 3
   },
   "file_extension": ".py",
   "mimetype": "text/x-python",
   "name": "python",
   "nbconvert_exporter": "python",
   "pygments_lexer": "ipython3",
   "version": "3.10.6"
  }
 },
 "nbformat": 4,
 "nbformat_minor": 2
}
