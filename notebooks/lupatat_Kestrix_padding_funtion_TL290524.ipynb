{
 "cells": [
  {
   "cell_type": "markdown",
   "id": "4f712d45-751f-4e08-93d9-238b299bed19",
   "metadata": {},
   "source": [
    "### PADDING FUNCTION"
   ]
  },
  {
   "cell_type": "code",
   "execution_count": null,
   "id": "594e01d5-d338-4d86-bba7-cf9ea0b53c19",
   "metadata": {},
   "outputs": [],
   "source": [
    "import tensorflow as tf\n",
    "import os\n"
   ]
  },
  {
   "cell_type": "code",
   "execution_count": null,
   "id": "8ce70f38-bb53-4a92-8147-504ca1dcd37f",
   "metadata": {},
   "outputs": [],
   "source": [
    "# Specify the input and output directories\n",
    "\n",
    "input_dir = '/Users/tatianalupashina/code/lupatat/twelo_Project/input_images/'  # Replace with your input directory path\n",
    "output_dir = '/Users/tatianalupashina/code/lupatat/twelo_Project/output_images/'  # Replace with your output directory path\n"
   ]
  },
  {
   "cell_type": "code",
   "execution_count": null,
   "id": "aa63b8ba-60b5-4f59-a07f-61ef933d734a",
   "metadata": {},
   "outputs": [],
   "source": [
    "#Function to take image one by one from input folder, decode to tensor, apply padding, convert back to image, save in output folder\n",
    "\n",
    "def process_images_in_folder(input_dir, output_dir, padding_amount=70):\n",
    "    # Create the output directory if it doesn't exist\n",
    "    os.makedirs(output_dir, exist_ok=True)\n",
    "\n",
    "    # Get the list of image files in the input directory\n",
    "    image_files = [f for f in os.listdir(input_dir) if f.lower().endswith(('.jpg', '.jpeg'))]\n",
    "\n",
    "    # Process each image\n",
    "    for image_file in image_files:\n",
    "        image_path = os.path.join(input_dir, image_file)\n",
    "\n",
    "        # Read the file contents as a string tensor\n",
    "        image_string = tf.io.read_file(image_path)\n",
    "\n",
    "        # Decode the JPEG image to a uint8 tensor\n",
    "        decoded_image = tf.image.decode_jpeg(image_string, channels=3)\n",
    "\n",
    "        # Print some information about the decoded image\n",
    "        print(f\"Processing image: {image_path}\")\n",
    "        print(f\"Image shape: {decoded_image.shape}\")\n",
    "        print(f\"Image data type: {decoded_image.dtype}\")\n",
    "\n",
    "        # Define paddings\n",
    "        paddings = tf.constant([[padding_amount, padding_amount], [padding_amount, padding_amount]])  # for height and width\n",
    "\n",
    "        # Initialize an empty list to store padded channels\n",
    "        padded_channels = []\n",
    "\n",
    "        # Loop through each channel and apply padding\n",
    "        for i in range(decoded_image.shape[2]):  # Loop through the 3 channels\n",
    "            channel = decoded_image[:, :, i]  # Extract the i-th channel\n",
    "            padded_channel = tf.pad(channel, paddings, \"CONSTANT\")  # Apply padding\n",
    "            padded_channels.append(padded_channel)  # Add to list\n",
    "\n",
    "        # Stack the padded channels back together\n",
    "        padded_image = tf.stack(padded_channels, axis=2)\n",
    "\n",
    "        # Encode the tensor as a JPEG image\n",
    "        encoded_image = tf.io.encode_jpeg(padded_image)\n",
    "\n",
    "        # Create the output file path\n",
    "        output_file = os.path.basename(image_path)\n",
    "        output_path = os.path.join(output_dir, output_file)\n",
    "\n",
    "        # Write the JPEG image to a file\n",
    "        tf.io.write_file(output_path, encoded_image)\n",
    "\n",
    "        # Print some information about the processed image\n",
    "        print(f\"Saved padded image to: {output_path}\")\n",
    "        print(f\"Image shape: {padded_image.shape}\")\n",
    "        print(f\"Image data type: {encoded_image.dtype}\")\n",
    "\n",
    "\n",
    "\n",
    "# Process the images\n",
    "process_images_in_folder(input_dir, output_dir)"
   ]
  },
  {
   "cell_type": "code",
   "execution_count": null,
   "id": "6c426897-5423-4486-a91d-c536c5018444",
   "metadata": {},
   "outputs": [],
   "source": []
  },
  {
   "cell_type": "code",
   "execution_count": null,
   "id": "c0083c81-5c93-4585-b03c-5dc04213f771",
   "metadata": {},
   "outputs": [],
   "source": []
  }
 ],
 "metadata": {
  "kernelspec": {
   "display_name": "Python 3 (ipykernel)",
   "language": "python",
   "name": "python3"
  },
  "language_info": {
   "codemirror_mode": {
    "name": "ipython",
    "version": 3
   },
   "file_extension": ".py",
   "mimetype": "text/x-python",
   "name": "python",
   "nbconvert_exporter": "python",
   "pygments_lexer": "ipython3",
   "version": "3.10.6"
  }
 },
 "nbformat": 4,
 "nbformat_minor": 5
}
